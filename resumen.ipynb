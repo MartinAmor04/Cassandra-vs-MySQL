{
 "cells": [
  {
   "cell_type": "markdown",
   "metadata": {},
   "source": [
    "### Docker y Dataset"
   ]
  },
  {
   "cell_type": "code",
   "execution_count": 43,
   "metadata": {},
   "outputs": [
    {
     "name": "stdout",
     "output_type": "stream",
     "text": [
      "\u001b[33mWARN\u001b[0m[0000] /home/bigdata/code/Cassandra-vs-MySQL/docker-compose-cassandra.yml: the attribute `version` is obsolete, it will be ignored, please remove it to avoid potential confusion \n",
      "\u001b[33mWARN\u001b[0m[0000] /home/bigdata/code/Cassandra-vs-MySQL/docker-compose-mysql.yml: the attribute `version` is obsolete, it will be ignored, please remove it to avoid potential confusion \n",
      "\u001b[1A\u001b[1B\u001b[0G\u001b[?25l[+] Running 2/0\n",
      " \u001b[32m✔\u001b[0m Container cassandra  \u001b[32mRunning\u001b[0m                                            \u001b[34m0.0s \u001b[0m\n",
      " \u001b[32m✔\u001b[0m Container mysql      \u001b[32mRunning\u001b[0m                                            \u001b[34m0.0s \u001b[0m\n",
      "\u001b[?25h"
     ]
    }
   ],
   "source": [
    "#Lanzamos el Docker\n",
    "!docker-compose -f ./docker-compose-cassandra.yml -f ./docker-compose-mysql.yml up -d"
   ]
  },
  {
   "cell_type": "code",
   "execution_count": 44,
   "metadata": {},
   "outputs": [
    {
     "name": "stdout",
     "output_type": "stream",
     "text": [
      "Archivo CSV 'dataset.csv' creado con éxito con 100 filas.\n"
     ]
    }
   ],
   "source": [
    "#Creamos el dataset\n",
    "!python createDataset.py"
   ]
  },
  {
   "cell_type": "markdown",
   "metadata": {},
   "source": [
    "### Cassandra"
   ]
  },
  {
   "cell_type": "code",
   "execution_count": 45,
   "metadata": {},
   "outputs": [
    {
     "name": "stdout",
     "output_type": "stream",
     "text": [
      "Insertado: 1\n",
      "Insertado: 2\n",
      "Insertado: 3\n",
      "Insertado: 4\n",
      "Insertado: 5\n",
      "Insertado: 6\n",
      "Insertado: 7\n",
      "Insertado: 8\n",
      "Insertado: 9\n",
      "Insertado: 10\n",
      "Insertado: 11\n",
      "Insertado: 12\n",
      "Insertado: 13\n",
      "Insertado: 14\n",
      "Insertado: 15\n",
      "Insertado: 16\n",
      "Insertado: 17\n",
      "Insertado: 18\n",
      "Insertado: 19\n",
      "Insertado: 20\n",
      "Insertado: 21\n",
      "Insertado: 22\n",
      "Insertado: 23\n",
      "Insertado: 24\n",
      "Insertado: 25\n",
      "Insertado: 26\n",
      "Insertado: 27\n",
      "Insertado: 28\n",
      "Insertado: 29\n",
      "Insertado: 30\n",
      "Insertado: 31\n",
      "Insertado: 32\n",
      "Insertado: 33\n",
      "Insertado: 34\n",
      "Insertado: 35\n",
      "Insertado: 36\n",
      "Insertado: 37\n",
      "Insertado: 38\n",
      "Insertado: 39\n",
      "Insertado: 40\n",
      "Insertado: 41\n",
      "Insertado: 42\n",
      "Insertado: 43\n",
      "Insertado: 44\n",
      "Insertado: 45\n",
      "Insertado: 46\n",
      "Insertado: 47\n",
      "Insertado: 48\n",
      "Insertado: 49\n",
      "Insertado: 50\n",
      "Insertado: 51\n",
      "Insertado: 52\n",
      "Insertado: 53\n",
      "Insertado: 54\n",
      "Insertado: 55\n",
      "Insertado: 56\n",
      "Insertado: 57\n",
      "Insertado: 58\n",
      "Insertado: 59\n",
      "Insertado: 60\n",
      "Insertado: 61\n",
      "Insertado: 62\n",
      "Insertado: 63\n",
      "Insertado: 64\n",
      "Insertado: 65\n",
      "Insertado: 66\n",
      "Insertado: 67\n",
      "Insertado: 68\n",
      "Insertado: 69\n",
      "Insertado: 70\n",
      "Insertado: 71\n",
      "Insertado: 72\n",
      "Insertado: 73\n",
      "Insertado: 74\n",
      "Insertado: 75\n",
      "Insertado: 76\n",
      "Insertado: 77\n",
      "Insertado: 78\n",
      "Insertado: 79\n",
      "Insertado: 80\n",
      "Insertado: 81\n",
      "Insertado: 82\n",
      "Insertado: 83\n",
      "Insertado: 84\n",
      "Insertado: 85\n",
      "Insertado: 86\n",
      "Insertado: 87\n",
      "Insertado: 88\n",
      "Insertado: 89\n",
      "Insertado: 90\n",
      "Insertado: 91\n",
      "Insertado: 92\n",
      "Insertado: 93\n",
      "Insertado: 94\n",
      "Insertado: 95\n",
      "Insertado: 96\n",
      "Insertado: 97\n",
      "Insertado: 98\n",
      "Insertado: 99\n",
      "Insertado: 100\n"
     ]
    }
   ],
   "source": [
    "\n",
    "#Insertamos los datos en Cassandra\n",
    "!python Cassandra/insert_dataCassandra.py"
   ]
  },
  {
   "cell_type": "code",
   "execution_count": 46,
   "metadata": {},
   "outputs": [
    {
     "name": "stdout",
     "output_type": "stream",
     "text": [
      "Conexión exitosa a Cassandra.\n",
      "Número total de filas: 1000000\n",
      "Resultado de la media: 500.192874\n",
      "Tiempo de ejecución de la consulta: 6.5562 segundos\n",
      "Conexión cerrada.\n"
     ]
    }
   ],
   "source": [
    "#Realizamos el test\n",
    "!python Cassandra/test.py"
   ]
  },
  {
   "cell_type": "markdown",
   "metadata": {},
   "source": [
    "### MySQL"
   ]
  },
  {
   "cell_type": "code",
   "execution_count": 47,
   "metadata": {},
   "outputs": [
    {
     "name": "stdout",
     "output_type": "stream",
     "text": [
      "Tabla creada correctamente.\n"
     ]
    }
   ],
   "source": [
    "#Creamos la tabla\n",
    "!python MYSQL/create_table.py"
   ]
  },
  {
   "cell_type": "code",
   "execution_count": 48,
   "metadata": {},
   "outputs": [
    {
     "name": "stdout",
     "output_type": "stream",
     "text": [
      "Traceback (most recent call last):\n",
      "  File \"/home/bigdata/miniconda3/envs/combined_env/lib/python3.9/site-packages/mysql/connector/connection_cext.py\", line 706, in cmd_query\n",
      "    self._cmysql.query(\n",
      "_mysql_connector.MySQLInterfaceError: Duplicate entry '1' for key 'dataset.PRIMARY'\n",
      "\n",
      "The above exception was the direct cause of the following exception:\n",
      "\n",
      "Traceback (most recent call last):\n",
      "  File \"/home/bigdata/code/Cassandra-vs-MySQL/MYSQL/insertData.py\", line 19, in <module>\n",
      "    cursor.execute('''\n",
      "  File \"/home/bigdata/miniconda3/envs/combined_env/lib/python3.9/site-packages/mysql/connector/cursor_cext.py\", line 357, in execute\n",
      "    result = self._connection.cmd_query(\n",
      "  File \"/home/bigdata/miniconda3/envs/combined_env/lib/python3.9/site-packages/mysql/connector/opentelemetry/context_propagation.py\", line 97, in wrapper\n",
      "    return method(cnx, *args, **kwargs)\n",
      "  File \"/home/bigdata/miniconda3/envs/combined_env/lib/python3.9/site-packages/mysql/connector/connection_cext.py\", line 714, in cmd_query\n",
      "    raise get_mysql_exception(\n",
      "mysql.connector.errors.IntegrityError: 1062 (23000): Duplicate entry '1' for key 'dataset.PRIMARY'\n"
     ]
    }
   ],
   "source": [
    "#Insertamos los datos\n",
    "!python MYSQL/insertData.py"
   ]
  },
  {
   "cell_type": "code",
   "execution_count": 49,
   "metadata": {},
   "outputs": [
    {
     "name": "stdout",
     "output_type": "stream",
     "text": [
      "Resultado de la media: 561.6000\n",
      "Tiempo de ejecución de la consulta: 0.0007 segundos\n"
     ]
    }
   ],
   "source": [
    "#Realizamos el test\n",
    "!python MYSQL/consultaSQL.py"
   ]
  }
 ],
 "metadata": {
  "kernelspec": {
   "display_name": "combined_env",
   "language": "python",
   "name": "python3"
  },
  "language_info": {
   "codemirror_mode": {
    "name": "ipython",
    "version": 3
   },
   "file_extension": ".py",
   "mimetype": "text/x-python",
   "name": "python",
   "nbconvert_exporter": "python",
   "pygments_lexer": "ipython3",
   "version": "3.9.20"
  }
 },
 "nbformat": 4,
 "nbformat_minor": 2
}
